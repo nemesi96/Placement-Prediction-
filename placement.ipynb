{
 "cells": [
  {
   "cell_type": "markdown",
   "metadata": {},
   "source": [
    "## PATHRISE DATA CHALLENGE \n",
    "### By Vishnu Prasanth Redy Patur"
   ]
  },
  {
   "cell_type": "code",
   "execution_count": 1786,
   "metadata": {},
   "outputs": [],
   "source": [
    "import pandas as pd\n",
    "import math\n",
    "import autocomplete\n",
    "import matplotlib.pyplot as plt\n",
    "import numpy as np\n",
    "import seaborn as sns\n",
    "import warnings\n",
    "warnings.simplefilter('ignore') "
   ]
  },
  {
   "cell_type": "code",
   "execution_count": 1787,
   "metadata": {},
   "outputs": [
    {
     "name": "stdout",
     "output_type": "stream",
     "text": [
      "Number of rows: 2544\n",
      "Number of columns: 16\n"
     ]
    }
   ],
   "source": [
    "data=pd.read_excel('data_Pathrise.xlsx')\n",
    "print(\"Number of rows:\",data.shape[0])\n",
    "print(\"Number of columns:\",data.shape[1])"
   ]
  },
  {
   "cell_type": "code",
   "execution_count": 1788,
   "metadata": {},
   "outputs": [
    {
     "data": {
      "text/html": [
       "<div>\n",
       "<style scoped>\n",
       "    .dataframe tbody tr th:only-of-type {\n",
       "        vertical-align: middle;\n",
       "    }\n",
       "\n",
       "    .dataframe tbody tr th {\n",
       "        vertical-align: top;\n",
       "    }\n",
       "\n",
       "    .dataframe thead th {\n",
       "        text-align: right;\n",
       "    }\n",
       "</style>\n",
       "<table border=\"1\" class=\"dataframe\">\n",
       "  <thead>\n",
       "    <tr style=\"text-align: right;\">\n",
       "      <th></th>\n",
       "      <th>missing_value_count</th>\n",
       "      <th>missing__value_percentage</th>\n",
       "    </tr>\n",
       "  </thead>\n",
       "  <tbody>\n",
       "    <tr>\n",
       "      <th>program_duration_days</th>\n",
       "      <td>616</td>\n",
       "      <td>24.21%</td>\n",
       "    </tr>\n",
       "    <tr>\n",
       "      <th>gender</th>\n",
       "      <td>492</td>\n",
       "      <td>19.34%</td>\n",
       "    </tr>\n",
       "    <tr>\n",
       "      <th>work_authorization_status</th>\n",
       "      <td>284</td>\n",
       "      <td>11.16%</td>\n",
       "    </tr>\n",
       "    <tr>\n",
       "      <th>employment_status</th>\n",
       "      <td>229</td>\n",
       "      <td>9.0%</td>\n",
       "    </tr>\n",
       "    <tr>\n",
       "      <th>professional_experience</th>\n",
       "      <td>222</td>\n",
       "      <td>8.73%</td>\n",
       "    </tr>\n",
       "    <tr>\n",
       "      <th>number_of_interviews</th>\n",
       "      <td>218</td>\n",
       "      <td>8.57%</td>\n",
       "    </tr>\n",
       "    <tr>\n",
       "      <th>length_of_job_search</th>\n",
       "      <td>74</td>\n",
       "      <td>2.91%</td>\n",
       "    </tr>\n",
       "    <tr>\n",
       "      <th>highest_level_of_education</th>\n",
       "      <td>58</td>\n",
       "      <td>2.28%</td>\n",
       "    </tr>\n",
       "    <tr>\n",
       "      <th>biggest_challenge_in_search</th>\n",
       "      <td>24</td>\n",
       "      <td>0.94%</td>\n",
       "    </tr>\n",
       "    <tr>\n",
       "      <th>race</th>\n",
       "      <td>18</td>\n",
       "      <td>0.71%</td>\n",
       "    </tr>\n",
       "    <tr>\n",
       "      <th>cohort_tag</th>\n",
       "      <td>8</td>\n",
       "      <td>0.31%</td>\n",
       "    </tr>\n",
       "  </tbody>\n",
       "</table>\n",
       "</div>"
      ],
      "text/plain": [
       "                             missing_value_count missing__value_percentage\n",
       "program_duration_days                        616                    24.21%\n",
       "gender                                       492                    19.34%\n",
       "work_authorization_status                    284                    11.16%\n",
       "employment_status                            229                      9.0%\n",
       "professional_experience                      222                     8.73%\n",
       "number_of_interviews                         218                     8.57%\n",
       "length_of_job_search                          74                     2.91%\n",
       "highest_level_of_education                    58                     2.28%\n",
       "biggest_challenge_in_search                   24                     0.94%\n",
       "race                                          18                     0.71%\n",
       "cohort_tag                                     8                     0.31%"
      ]
     },
     "execution_count": 1788,
     "metadata": {},
     "output_type": "execute_result"
    }
   ],
   "source": [
    "#Dropping ID column\n",
    "data.drop('id',axis=1,inplace=True) \n",
    "#missing Values\n",
    "missing=pd.DataFrame(data.isnull().sum())\n",
    "missing=missing.loc[missing[0]>0]\n",
    "missing.columns=['missing_value_count']\n",
    "missing['missing__value_percentage']=round((missing.iloc[:,0]/data.shape[0])*100,2).astype(str)+'%'\n",
    "missing.sort_values(by=['missing_value_count'], ascending=False)"
   ]
  },
  {
   "cell_type": "code",
   "execution_count": 1789,
   "metadata": {},
   "outputs": [],
   "source": [
    "#capturing Numeical and Caterical attributes\n",
    "numerical=['program_duration_days','number_of_interviews','number_of_applications']\n",
    "categorical=[i for i in  data.columns if i not in numerical]"
   ]
  },
  {
   "cell_type": "markdown",
   "metadata": {},
   "source": [
    "## Data Exploration"
   ]
  },
  {
   "cell_type": "markdown",
   "metadata": {},
   "source": [
    "### Categorical"
   ]
  },
  {
   "cell_type": "code",
   "execution_count": 1790,
   "metadata": {},
   "outputs": [
    {
     "data": {
      "text/plain": [
       "Placed                956\n",
       "Active                532\n",
       "Withdrawn             398\n",
       "Withdrawn (Trial)     276\n",
       "Closed Lost           182\n",
       "Withdrawn (Failed)     82\n",
       "MIA                    52\n",
       "Deferred               34\n",
       "Break                  32\n",
       "Name: pathrise_status, dtype: int64"
      ]
     },
     "execution_count": 1790,
     "metadata": {},
     "output_type": "execute_result"
    }
   ],
   "source": [
    "#Pathrise Status\n",
    "EDA=data.copy()\n",
    "EDA['pathrise_status'].value_counts(dropna=False)"
   ]
  },
  {
   "cell_type": "code",
   "execution_count": 1791,
   "metadata": {},
   "outputs": [
    {
     "data": {
      "text/plain": [
       "SWE          1678\n",
       "PSO           322\n",
       "Design        288\n",
       "Data          248\n",
       "Web             6\n",
       "Marketing       2\n",
       "Name: primary_track, dtype: int64"
      ]
     },
     "execution_count": 1791,
     "metadata": {},
     "output_type": "execute_result"
    }
   ],
   "source": [
    "#primary Track\n",
    "EDA['primary_track'].value_counts(dropna=False)"
   ]
  },
  {
   "cell_type": "code",
   "execution_count": 1792,
   "metadata": {},
   "outputs": [
    {
     "data": {
      "image/png": "[encoded data removed]",
      "text/plain": [
       "<Figure size 360x360 with 1 Axes>"
      ]
     },
     "metadata": {},
     "output_type": "display_data"
    },
    {
     "data": {
      "text/plain": [
       "<Figure size 1440x432 with 0 Axes>"
      ]
     },
     "metadata": {},
     "output_type": "display_data"
    }
   ],
   "source": [
    "# Pie chart of Jobsearch LEngth\n",
    "\n",
    "length_job=pd.DataFrame(EDA.length_of_job_search.value_counts(dropna=False))\n",
    "labels = list(length_job.index)\n",
    "sizes =list((length_job.length_of_job_search/length_job.length_of_job_search.sum())*100)\n",
    "# only \"explode\" the 2nd slice (i.e. 'Hogs')\n",
    "explode = (0, 0, 0, 0,0.3,0)  \n",
    "fig1, ax1 = plt.subplots()\n",
    "plt.title('Pie chart of candidates job search duration')\n",
    "ax1.pie(sizes, explode=explode, labels=labels, autopct='%1.1f%%',\n",
    "        shadow=True, startangle=90)\n",
    "# Equal aspect ratio ensures that pie is drawn as a circle\n",
    "ax1.axis('equal')  \n",
    "plt.figure(figsize=(20,6))\n",
    "plt.show()"
   ]
  },
  {
   "cell_type": "markdown",
   "metadata": {},
   "source": [
    "only 4.7% of the candidates have been searching for jobs for more than a year"
   ]
  },
  {
   "cell_type": "code",
   "execution_count": 1793,
   "metadata": {},
   "outputs": [
    {
     "data": {
      "image/png": "[encoded data removed]",
      "text/plain": [
       "<Figure size 432x576 with 1 Axes>"
      ]
     },
     "metadata": {
      "needs_background": "light"
     },
     "output_type": "display_data"
    }
   ],
   "source": [
    "#Biggest Challenges \n",
    "EDA['biggest_challenge_in_search'].value_counts().plot(kind='barh', figsize=(6,8))\n",
    "plt.title('Bar chart of Biggest Challanges faced')\n",
    "plt.show()"
   ]
  },
  {
   "cell_type": "markdown",
   "metadata": {},
   "source": [
    "Haearing back on application is the widely faced challenge by many Candidates"
   ]
  },
  {
   "cell_type": "code",
   "execution_count": 1794,
   "metadata": {},
   "outputs": [
    {
     "data": {
      "image/png": "[encoded data removed]",
      "text/plain": [
       "<Figure size 648x432 with 1 Axes>"
      ]
     },
     "metadata": {
      "needs_background": "light"
     },
     "output_type": "display_data"
    }
   ],
   "source": [
    "#Employment status\n",
    "plt.figure(figsize=(9,6))\n",
    "sns.countplot(EDA['employment_status '],hue=EDA['placed'])\n",
    "plt.legend(title='placed',loc='upper left')\n",
    "plt.title(\"Grouped Bar chart of candidate's Employment status when they joined the program\")\n",
    "plt.show()"
   ]
  },
  {
   "cell_type": "markdown",
   "metadata": {},
   "source": [
    "Students and Unemployed candidates tend to get placed more that any other candidates."
   ]
  },
  {
   "cell_type": "code",
   "execution_count": 1795,
   "metadata": {},
   "outputs": [
    {
     "data": {
      "image/png": "[encoded data removed]",
      "text/plain": [
       "<Figure size 864x576 with 1 Axes>"
      ]
     },
     "metadata": {
      "needs_background": "light"
     },
     "output_type": "display_data"
    }
   ],
   "source": [
    "#Insights of Placed Candidates.\n",
    "EDA_placed=EDA[EDA['placed']==1]\n",
    "plt.figure(figsize=(12,8))\n",
    "sns.boxplot(x='work_authorization_status', y='program_duration_days', data=EDA_placed)\n",
    "plt.title(\"Box plot of Placed Candidate's work authorization vs program duration\")\n",
    "plt.show()"
   ]
  },
  {
   "cell_type": "markdown",
   "metadata": {},
   "source": [
    "H1B work authorization candidates are beneficiaries of Pathrise Program, **75%** of the canditated get placed before 200 days of progam duration"
   ]
  },
  {
   "cell_type": "markdown",
   "metadata": {},
   "source": [
    "### Numerical"
   ]
  },
  {
   "cell_type": "code",
   "execution_count": 1796,
   "metadata": {},
   "outputs": [
    {
     "name": "stdout",
     "output_type": "stream",
     "text": [
      "Average Response rate 0.22\n"
     ]
    }
   ],
   "source": [
    "#New variable Response Rate\n",
    "#Response Rate = Number of interviews / Number of applications\n",
    "\n",
    "EDA_1=EDA.loc[(EDA['number_of_applications']>0)&(EDA['program_duration_days']>0),]\n",
    "EDA_1['Response_rate']=(EDA_1['number_of_interviews']/EDA_1['number_of_applications'])\n",
    "print(\"Average Response rate\",round(EDA_1['Response_rate'].mean(),2))"
   ]
  },
  {
   "cell_type": "markdown",
   "metadata": {},
   "source": [
    "The Average Response rate from companies of any applicant after joining Pathrise is **22%**. There is a 22% chance that a Candidate will be interviewed after appliying atleast one aplication."
   ]
  },
  {
   "cell_type": "code",
   "execution_count": 1797,
   "metadata": {},
   "outputs": [
    {
     "data": {
      "text/plain": [
       "count    1515.000000\n",
       "mean        0.218834\n",
       "std         0.570779\n",
       "min         0.000000\n",
       "25%         0.000000\n",
       "50%         0.044444\n",
       "75%         0.166667\n",
       "max         7.000000\n",
       "Name: Response_rate, dtype: float64"
      ]
     },
     "execution_count": 1797,
     "metadata": {},
     "output_type": "execute_result"
    }
   ],
   "source": [
    "EDA_1['Response_rate'].describe()"
   ]
  },
  {
   "cell_type": "code",
   "execution_count": 1798,
   "metadata": {},
   "outputs": [
    {
     "data": {
      "text/plain": [
       "<matplotlib.axes._subplots.AxesSubplot at 0x217424e9358>"
      ]
     },
     "execution_count": 1798,
     "metadata": {},
     "output_type": "execute_result"
    },
    {
     "data": {
      "image/png": "[encoded data removed]",
      "text/plain": [
       "<Figure size 864x360 with 2 Axes>"
      ]
     },
     "metadata": {
      "needs_background": "light"
     },
     "output_type": "display_data"
    }
   ],
   "source": [
    "plt.figure(figsize=(12,5))\n",
    "sns.heatmap(EDA_1[numerical+['Response_rate','placed']].corr(), annot = True, fmt='.2g')"
   ]
  },
  {
   "cell_type": "markdown",
   "metadata": {},
   "source": [
    "1.We can observe a positive correlation between Program Duration And Placed meaning that a Candidate will find a jod if he continiues with the program. \n",
    "\n",
    "2.We can also notice that there is a positive corelation between number of interviews and number of applications which can be concluded a the more you apply the more interviews you can give."
   ]
  },
  {
   "cell_type": "code",
   "execution_count": 1799,
   "metadata": {
    "scrolled": false
   },
   "outputs": [
    {
     "data": {
      "image/png": "[encoded data removed]",
      "text/plain": [
       "<Figure size 864x360 with 1 Axes>"
      ]
     },
     "metadata": {
      "needs_background": "light"
     },
     "output_type": "display_data"
    }
   ],
   "source": [
    "plt.figure(figsize=(12,5))\n",
    "sns.distplot(EDA_1[EDA['placed']==1]['program_duration_days'],kde=False,bins=50, label='Placed')\n",
    "sns.distplot(EDA_1[EDA['placed']==0]['program_duration_days'],kde=False,bins=50,label='Not Placed')\n",
    "plt.xlim(-10, 550,20)\n",
    "plt.title(\"Histogram of Program Duration\")\n",
    "plt.legend(loc='upper right')\n",
    "plt.show()"
   ]
  },
  {
   "cell_type": "markdown",
   "metadata": {},
   "source": [
    "1.The Program_duration_days distribution days is highly skewed to the right and we can obseved 2 peaks from 0-20 days where most candidates withdrawl from the program after the 14day trail period. \n",
    "\n",
    "2.The Candidates wi have signed up for the program even after the trail period are more likely to get places between 20 - 365 days. \n",
    "\n",
    "3.There are presence of many outliers. some candidated were not placed even after 500 days and some did aftr 550 days."
   ]
  },
  {
   "cell_type": "code",
   "execution_count": 1800,
   "metadata": {},
   "outputs": [
    {
     "data": {
      "text/plain": [
       "Text(0.5, 1.0, 'Scatter plot of number_of_interviews vs number_of_applcatios with trend line')"
      ]
     },
     "execution_count": 1800,
     "metadata": {},
     "output_type": "execute_result"
    },
    {
     "data": {
      "image/png": "[encoded data removed]",
      "text/plain": [
       "<Figure size 360x360 with 1 Axes>"
      ]
     },
     "metadata": {
      "needs_background": "light"
     },
     "output_type": "display_data"
    }
   ],
   "source": [
    "sns.lmplot(x=\"number_of_applications\", y=\"number_of_interviews\",\n",
    "               height=5, data=EDA_1)\n",
    "plt.title(\"Scatter plot of number_of_interviews vs number_of_applcatios with trend line\")"
   ]
  },
  {
   "cell_type": "code",
   "execution_count": 1801,
   "metadata": {},
   "outputs": [
    {
     "data": {
      "text/plain": [
       "Text(0.5, 1.0, 'Scatter plot of number_of_interviews vs  with trend line')"
      ]
     },
     "execution_count": 1801,
     "metadata": {},
     "output_type": "execute_result"
    },
    {
     "data": {
      "image/png": "[encoded data removed]",
      "text/plain": [
       "<Figure size 360x360 with 1 Axes>"
      ]
     },
     "metadata": {
      "needs_background": "light"
     },
     "output_type": "display_data"
    }
   ],
   "source": [
    "sns.lmplot(y=\"Response_rate\", x=\"number_of_interviews\",\n",
    "               height=5, data=EDA_1)\n",
    "plt.title(\"Scatter plot of number_of_interviews vs  with trend line\")"
   ]
  },
  {
   "cell_type": "markdown",
   "metadata": {},
   "source": [
    "## Modeling use cases\n",
    "The Data set can be used for developing two-usecases\n",
    "1.  To predict the number of days a current Candidate would participate in the program. `program_duration_days` is the target variable for the first use case.\n",
    "2.  To predict weather current Candidate will be placed or not. `placed` is Target variable for second usecase.\n"
   ]
  },
  {
   "cell_type": "code",
   "execution_count": 1802,
   "metadata": {},
   "outputs": [],
   "source": [
    "#Data Pre-processing\n",
    "data_model=data.copy()\n",
    "data_model.drop('cohort_tag',inplace=True,axis=1) #Removing Cohort Tag"
   ]
  },
  {
   "cell_type": "code",
   "execution_count": 1803,
   "metadata": {},
   "outputs": [],
   "source": [
    "#Categorical Missing Vale Imputation\n",
    "data_model.update(data_model[['employment_status ',\n",
    "           'highest_level_of_education',\n",
    "           'biggest_challenge_in_search',\n",
    "           'professional_experience',\n",
    "           'work_authorization_status',\n",
    "           'gender','length_of_job_search',\n",
    "           'race']].fillna('Missing'))\n",
    "#Numerica; Missing Vale Imputation\n",
    "data_model.update(data['number_of_interviews'].fillna(data['number_of_interviews'].median()))"
   ]
  },
  {
   "cell_type": "markdown",
   "metadata": {},
   "source": [
    "### USECASE 1"
   ]
  },
  {
   "cell_type": "code",
   "execution_count": 1804,
   "metadata": {},
   "outputs": [],
   "source": [
    "from sklearn.linear_model import LinearRegression,LogisticRegression,SGDClassifier\n",
    "from xgboost import XGBClassifier\n",
    "from sklearn.tree import DecisionTreeRegressor\n",
    "from sklearn.metrics import mean_squared_error,r2_score\n",
    "from sklearn.ensemble import RandomForestRegressor,GradientBoostingRegressor\n",
    "from sklearn.model_selection import KFold, cross_val_score\n",
    "from sklearn.metrics import precision_recall_fscore_support as score\n",
    "from sklearn.metrics import precision_recall_curve\n",
    "from sklearn.model_selection import train_test_split\n",
    "import xgboost \n",
    "import xgboost as xgb\n",
    "from sklearn.model_selection import GridSearchCV \n",
    "from xgboost import plot_importance\n",
    "import statsmodels.api as sm\n",
    "\n",
    "def display_scores(scores):\n",
    "    print(\"Scores:\", scores)\n",
    "    print(\"Mean:\", scores.mean())\n",
    "    print(\"Standard deviation:\", scores.std())\n",
    "    \n",
    "def rmse(predictions, targets):\n",
    "    return np.sqrt(((predictions - targets) ** 2).mean())"
   ]
  },
  {
   "cell_type": "code",
   "execution_count": 1805,
   "metadata": {},
   "outputs": [],
   "source": [
    "numerical=['program_duration_days','number_of_interviews','number_of_applications']\n",
    "categorical=[i for i in  data_model.columns if i not in numerical]\n",
    "X=pd.get_dummies(data_model[categorical]) #Creating Dummy Variables\n",
    "X[numerical]=data_model[numerical]"
   ]
  },
  {
   "cell_type": "code",
   "execution_count": 1806,
   "metadata": {},
   "outputs": [
    {
     "name": "stdout",
     "output_type": "stream",
     "text": [
      "Number of rows after Data Prepration: 2544\n",
      "Number of columns Data Prepration: 80\n"
     ]
    }
   ],
   "source": [
    "print(\"Number of rows after Data Prepration:\",X.shape[0])\n",
    "print(\"Number of columns Data Prepration:\",X.shape[1])"
   ]
  },
  {
   "cell_type": "code",
   "execution_count": 1807,
   "metadata": {},
   "outputs": [],
   "source": [
    "#Seperating the Current Candidates for impleimplementing Usecases\n",
    "model_data=X.loc[data_model['program_duration_days'].isnull()!=True,]\n",
    "current_candidates=X.loc[data_model['program_duration_days'].isnull()==True,]\n",
    "\n",
    "#Data for Usecase1\n",
    "ytrain_uc1=model_data.loc[:,'program_duration_days']\n",
    "Xtrain_uc1=model_data.drop(['placed','pathrise_status_Placed','program_duration_days'],axis=1)\n",
    "\n",
    "ycurrent_candidates_uc1=current_candidates.loc[:,'program_duration_days']\n",
    "Xcurrent_candidates_uc1=current_candidates.drop(['placed','pathrise_status_Placed','program_duration_days'],axis=1)"
   ]
  },
  {
   "cell_type": "code",
   "execution_count": 1808,
   "metadata": {},
   "outputs": [],
   "source": [
    "#Sploting the Data\n",
    "X_train, X_test, y_train, y_test= train_test_split(Xtrain_uc1,ytrain_uc1,test_size=0.2,random_state =2)"
   ]
  },
  {
   "cell_type": "code",
   "execution_count": 1809,
   "metadata": {},
   "outputs": [
    {
     "name": "stdout",
     "output_type": "stream",
     "text": [
      "RMSE: 87.408253\n",
      "r2: 0.513000\n",
      "Error percentage 66.836\n"
     ]
    }
   ],
   "source": [
    "#Linear Regression\n",
    "regressor = LinearRegression()  \n",
    "regressor.fit(X_train, y_train)\n",
    "y_pred = regressor.predict(X_test)\n",
    "rmse = np.sqrt(mean_squared_error(y_test, y_pred))\n",
    "print(\"RMSE: %f\" % (rmse))\n",
    "print(\"r2: %f\" % round(r2_score(y_test,y_pred),3))\n",
    "print(\"Error percentage\",round(100*rmse/y_test.mean(),3))"
   ]
  },
  {
   "cell_type": "code",
   "execution_count": 1810,
   "metadata": {},
   "outputs": [],
   "source": [
    "#RandomForest\n",
    "rf = RandomForestRegressor(random_state=8)\n",
    "param = {'n_estimators': [10, 150, 300],\n",
    "        'max_depth': [5,7,10],\n",
    "        'max_features': [10, 30, 70]}\n",
    "\n",
    "gs = GridSearchCV(rf, param, cv=5, n_jobs=-1,scoring='neg_mean_squared_error')\n",
    "gs_fit = gs.fit(X_train, y_train)"
   ]
  },
  {
   "cell_type": "code",
   "execution_count": 1811,
   "metadata": {},
   "outputs": [
    {
     "name": "stdout",
     "output_type": "stream",
     "text": [
      "RMSE: 86.880816\n",
      "r2: 0.510000\n",
      "Error percentage 66.43\n"
     ]
    }
   ],
   "source": [
    "preds = gs_fit.predict(X_test)\n",
    "rmse = np.sqrt(mean_squared_error(y_test, preds))\n",
    "print(\"RMSE: %f\" % (rmse))\n",
    "print(\"r2: %f\" % round(r2_score(y_test,y_pred),2))\n",
    "print(\"Error percentage\",round(100*rmse/y_test.mean(),2))"
   ]
  },
  {
   "cell_type": "code",
   "execution_count": 1812,
   "metadata": {},
   "outputs": [
    {
     "name": "stdout",
     "output_type": "stream",
     "text": [
      "[14:30:37] WARNING: C:/Jenkins/workspace/xgboost-win64_release_0.90/src/objective/regression_obj.cu:152: reg:linear is now deprecated in favor of reg:squarederror.\n",
      "RMSE: 86.987215\n",
      "r2: 0.513000\n",
      "Error percentage 66.514\n"
     ]
    }
   ],
   "source": [
    "#Best Estimator XGBOOST\n",
    "model = xgboost.XGBRegressor(objective ='reg:linear',\n",
    "                            colsample_bytree=0.39,               \n",
    "                             learning_rate=0.01,\n",
    "                             alpha=0.4,\n",
    "                             max_depth=2,\n",
    "                             min_child_weight=1.5,\n",
    "                             n_estimators=800,                                                                    \n",
    "                             reg_lambda=0.42,\n",
    "                             subsample=0.8,\n",
    "                             seed=23) \n",
    "model.fit(X_train,y_train)\n",
    "preds = model.predict(X_test)\n",
    "rmse = np.sqrt(mean_squared_error(y_test, preds))\n",
    "print(\"RMSE: %f\" % (rmse))\n",
    "print(\"r2: %f\" % round(r2_score(y_test,y_pred),3))\n",
    "print(\"Error percentage\",round(100*rmse/y_test.mean(),3))"
   ]
  },
  {
   "cell_type": "markdown",
   "metadata": {},
   "source": [
    "Initialy I have implemented a OLS model to mind the data and to identify the atributes that are important in predicting the program duration days usinf data mining techniques such as backward selection and appropriate tests. Since there was a raise in error and  RMSE, drop in Rsquare. I have used all the attributs to build a regression model. \n",
    "\n",
    "From the above scores, we can say that RandomForest did a better job compared to Linear regression and Xgboost in terms RMSE, R2 and Error percentage. This would be the final model for prediction."
   ]
  },
  {
   "cell_type": "code",
   "execution_count": 1813,
   "metadata": {},
   "outputs": [],
   "source": [
    "#Usecase1 implementation\n",
    "yscoring_uc1=gs_fit.predict(Xscoring_uc1)"
   ]
  },
  {
   "cell_type": "markdown",
   "metadata": {},
   "source": [
    "## Usecase 2"
   ]
  },
  {
   "cell_type": "code",
   "execution_count": 1814,
   "metadata": {},
   "outputs": [],
   "source": [
    "\n",
    "from sklearn.model_selection import cross_val_predict\n",
    "from sklearn.ensemble import RandomForestClassifier,ExtraTreesClassifier\n",
    "from sklearn.linear_model import LogisticRegression,SGDClassifier\n",
    "from sklearn.tree import DecisionTreeClassifier\n",
    "from sklearn.decomposition import PCA\n",
    "from sklearn.metrics import precision_score, recall_score,f1_score, accuracy_score\n",
    "from sklearn.metrics import precision_recall_curve,roc_curve,roc_auc_score\n",
    "from sklearn.metrics import confusion_matrix\n",
    "pd.set_option('display.max_colwidth', 100)\n"
   ]
  },
  {
   "cell_type": "code",
   "execution_count": 1815,
   "metadata": {},
   "outputs": [],
   "source": [
    "def model_performance(model,x,y):\n",
    "    pred=model.predict(x)\n",
    "    print(\"Model Performance\")\n",
    "    print(\"--------------------------\")\n",
    "    print (\"Accuracy:\",accuracy_score(y,pred))\n",
    "    print (\"precision:\", precision_score(y,pred))\n",
    "    print (\"Recall:\",recall_score(y,pred))\n",
    "    print (\"F1 Score:\",f1_score(y,pred))\n",
    "def model_performance_scores(model,x,y):\n",
    "    pred=model.predict(x)\n",
    "    return accuracy_score(y,pred), precision_score(y,pred),recall_score(y,pred),f1_score(y,pred)\n",
    "def display_AUC_ROC():\n",
    "    print('Area Under ROC')\n",
    "    print('---------------')\n",
    "    print('LogisticRegression:',roc_auc_score(y_train, y_logitint_scores).round(3))\n",
    "    print('DecisionTree:',roc_auc_score(y_train, y_dt_scores).round(3))\n",
    "    print('RandomForest:',roc_auc_score(y_train, y_rf_scores).round(3))\n",
    "    print('XGBoost:',roc_auc_score(y_train, y_xgb_scores).round(3))\n",
    "    plt.figure(figsize=(8,6))\n",
    "    plt.plot(fpr_logit,tpr_logit,label=\"Logistic regression\")\n",
    "    plt.plot(fpr_dt,tpr_dt,label=\"Decisiontree\")\n",
    "    plt.plot(fpr_rf,tpr_rf,label=\"Random Forest\")\n",
    "    plt.plot(fpr_xgb,tpr_xgb,label=\"Gradient Boosting\")\n",
    "    plt.plot([0, 1], [0, 1], 'k--'),plt.axis([0, 1, 0, 1.1])\n",
    "    plt.xlabel('False Positive Rate') ,plt.ylabel('True Positive Rate')\n",
    "    plt.legend(loc='lower right'),plt.title('Recieve operator curve')"
   ]
  },
  {
   "cell_type": "code",
   "execution_count": 1816,
   "metadata": {},
   "outputs": [
    {
     "name": "stdout",
     "output_type": "stream",
     "text": [
      "TRAINING DATA\n",
      "Model Performance\n",
      "--------------------------\n",
      "Accuracy: 1.0\n",
      "precision: 1.0\n",
      "Recall: 1.0\n",
      "F1 Score: 1.0\n",
      "\n",
      "TESTING DATA\n",
      "Model Performance\n",
      "--------------------------\n",
      "Accuracy: 1.0\n",
      "precision: 1.0\n",
      "Recall: 1.0\n",
      "F1 Score: 1.0\n"
     ]
    }
   ],
   "source": [
    "\n",
    "ytrain_uc2=model_data.loc[:,'placed']\n",
    "Xtrain_uc2=model_data.drop(['placed','pathrise_status_Placed','program_duration_days'],axis=1)\n",
    "\n",
    "X_train, X_test, y_train, y_test= train_test_split(Xtrain_uc2,ytrain_uc2,test_size=0.3,random_state =1)\n",
    "\n",
    "log_reg=LogisticRegression(solver='liblinear')\n",
    "log_reg.fit(X_train,y_train)\n",
    "print('TRAINING DATA')\n",
    "model_performance(log_reg,X_train,y_train)\n",
    "\n",
    "print('\\nTESTING DATA')\n",
    "model_performance(log_reg,X_test,y_test)"
   ]
  },
  {
   "cell_type": "markdown",
   "metadata": {},
   "source": [
    "STRANGE!!!!! isn't it? Infact it's clearly Overfitting both train and test data by identifying the patterns from the Pathrise_status dummy variables. Which can be verified from the Decesion tree plot and correlation matrix below"
   ]
  },
  {
   "cell_type": "code",
   "execution_count": 1817,
   "metadata": {},
   "outputs": [
    {
     "data": {
      "image/png": "[encoded data removed]",
      "text/plain": [
       "<IPython.core.display.Image object>"
      ]
     },
     "execution_count": 1817,
     "metadata": {},
     "output_type": "execute_result"
    }
   ],
   "source": [
    "from IPython.display import Image  \n",
    "from sklearn.externals.six import StringIO  \n",
    "from sklearn.tree import DecisionTreeClassifier\n",
    "tree_clf = DecisionTreeClassifier(max_depth=3) #remove vcriterion for gini\n",
    "tree_clf.fit(X_train, y_train)\n",
    "pred=tree_clf.predict(X_train)\n",
    "from sklearn.tree import export_graphviz\n",
    "import pydot\n",
    "dot_data = StringIO()  \n",
    "export_graphviz(tree_clf, out_file=dot_data,feature_names=X_train.columns,class_names=['not_placed','placed'],filled=True)\n",
    "graph = pydot.graph_from_dot_data(dot_data.getvalue())  \n",
    "Image(graph[0].create_png())"
   ]
  },
  {
   "cell_type": "code",
   "execution_count": 1818,
   "metadata": {},
   "outputs": [
    {
     "data": {
      "text/html": [
       "<div>\n",
       "<style scoped>\n",
       "    .dataframe tbody tr th:only-of-type {\n",
       "        vertical-align: middle;\n",
       "    }\n",
       "\n",
       "    .dataframe tbody tr th {\n",
       "        vertical-align: top;\n",
       "    }\n",
       "\n",
       "    .dataframe thead th {\n",
       "        text-align: right;\n",
       "    }\n",
       "</style>\n",
       "<table border=\"1\" class=\"dataframe\">\n",
       "  <thead>\n",
       "    <tr style=\"text-align: right;\">\n",
       "      <th></th>\n",
       "      <th>placed</th>\n",
       "      <th>pathrise_status_Active</th>\n",
       "      <th>pathrise_status_Break</th>\n",
       "      <th>pathrise_status_Closed Lost</th>\n",
       "      <th>pathrise_status_Deferred</th>\n",
       "      <th>pathrise_status_MIA</th>\n",
       "      <th>pathrise_status_Placed</th>\n",
       "      <th>pathrise_status_Withdrawn</th>\n",
       "      <th>pathrise_status_Withdrawn (Failed)</th>\n",
       "      <th>pathrise_status_Withdrawn (Trial)</th>\n",
       "      <th>...</th>\n",
       "      <th>race_Latino or Hispanic American</th>\n",
       "      <th>race_Middle Eastern or Arab American</th>\n",
       "      <th>race_Missing</th>\n",
       "      <th>race_Native American or Alaskan Native</th>\n",
       "      <th>race_Non-Hispanic White or Euro-American</th>\n",
       "      <th>race_South Asian or Indian American</th>\n",
       "      <th>race_Two or More Races</th>\n",
       "      <th>program_duration_days</th>\n",
       "      <th>number_of_interviews</th>\n",
       "      <th>number_of_applications</th>\n",
       "    </tr>\n",
       "  </thead>\n",
       "  <tbody>\n",
       "    <tr>\n",
       "      <th>placed</th>\n",
       "      <td>1.000000</td>\n",
       "      <td>NaN</td>\n",
       "      <td>NaN</td>\n",
       "      <td>-0.320191</td>\n",
       "      <td>-0.132876</td>\n",
       "      <td>NaN</td>\n",
       "      <td>1.000000</td>\n",
       "      <td>-0.505815</td>\n",
       "      <td>-0.209020</td>\n",
       "      <td>-0.405364</td>\n",
       "      <td>...</td>\n",
       "      <td>-0.034513</td>\n",
       "      <td>0.033400</td>\n",
       "      <td>-0.005654</td>\n",
       "      <td>0.039806</td>\n",
       "      <td>0.034655</td>\n",
       "      <td>0.049617</td>\n",
       "      <td>-0.020909</td>\n",
       "      <td>0.197222</td>\n",
       "      <td>-0.012853</td>\n",
       "      <td>-0.040361</td>\n",
       "    </tr>\n",
       "    <tr>\n",
       "      <th>pathrise_status_Active</th>\n",
       "      <td>NaN</td>\n",
       "      <td>NaN</td>\n",
       "      <td>NaN</td>\n",
       "      <td>NaN</td>\n",
       "      <td>NaN</td>\n",
       "      <td>NaN</td>\n",
       "      <td>NaN</td>\n",
       "      <td>NaN</td>\n",
       "      <td>NaN</td>\n",
       "      <td>NaN</td>\n",
       "      <td>...</td>\n",
       "      <td>NaN</td>\n",
       "      <td>NaN</td>\n",
       "      <td>NaN</td>\n",
       "      <td>NaN</td>\n",
       "      <td>NaN</td>\n",
       "      <td>NaN</td>\n",
       "      <td>NaN</td>\n",
       "      <td>NaN</td>\n",
       "      <td>NaN</td>\n",
       "      <td>NaN</td>\n",
       "    </tr>\n",
       "    <tr>\n",
       "      <th>pathrise_status_Break</th>\n",
       "      <td>NaN</td>\n",
       "      <td>NaN</td>\n",
       "      <td>NaN</td>\n",
       "      <td>NaN</td>\n",
       "      <td>NaN</td>\n",
       "      <td>NaN</td>\n",
       "      <td>NaN</td>\n",
       "      <td>NaN</td>\n",
       "      <td>NaN</td>\n",
       "      <td>NaN</td>\n",
       "      <td>...</td>\n",
       "      <td>NaN</td>\n",
       "      <td>NaN</td>\n",
       "      <td>NaN</td>\n",
       "      <td>NaN</td>\n",
       "      <td>NaN</td>\n",
       "      <td>NaN</td>\n",
       "      <td>NaN</td>\n",
       "      <td>NaN</td>\n",
       "      <td>NaN</td>\n",
       "      <td>NaN</td>\n",
       "    </tr>\n",
       "    <tr>\n",
       "      <th>pathrise_status_Closed Lost</th>\n",
       "      <td>-0.320191</td>\n",
       "      <td>NaN</td>\n",
       "      <td>NaN</td>\n",
       "      <td>1.000000</td>\n",
       "      <td>-0.043258</td>\n",
       "      <td>NaN</td>\n",
       "      <td>-0.320191</td>\n",
       "      <td>-0.164668</td>\n",
       "      <td>-0.068046</td>\n",
       "      <td>-0.131966</td>\n",
       "      <td>...</td>\n",
       "      <td>-0.001721</td>\n",
       "      <td>-0.009951</td>\n",
       "      <td>-0.026601</td>\n",
       "      <td>-0.012746</td>\n",
       "      <td>0.016931</td>\n",
       "      <td>-0.024270</td>\n",
       "      <td>0.024821</td>\n",
       "      <td>-0.349214</td>\n",
       "      <td>0.010258</td>\n",
       "      <td>0.036656</td>\n",
       "    </tr>\n",
       "    <tr>\n",
       "      <th>pathrise_status_Deferred</th>\n",
       "      <td>-0.132876</td>\n",
       "      <td>NaN</td>\n",
       "      <td>NaN</td>\n",
       "      <td>-0.043258</td>\n",
       "      <td>1.000000</td>\n",
       "      <td>NaN</td>\n",
       "      <td>-0.132876</td>\n",
       "      <td>-0.068335</td>\n",
       "      <td>-0.028238</td>\n",
       "      <td>-0.054764</td>\n",
       "      <td>...</td>\n",
       "      <td>-0.034364</td>\n",
       "      <td>-0.022307</td>\n",
       "      <td>-0.011039</td>\n",
       "      <td>-0.005289</td>\n",
       "      <td>-0.002887</td>\n",
       "      <td>-0.013429</td>\n",
       "      <td>-0.004255</td>\n",
       "      <td>-0.144920</td>\n",
       "      <td>0.009314</td>\n",
       "      <td>-0.032839</td>\n",
       "    </tr>\n",
       "    <tr>\n",
       "      <th>pathrise_status_MIA</th>\n",
       "      <td>NaN</td>\n",
       "      <td>NaN</td>\n",
       "      <td>NaN</td>\n",
       "      <td>NaN</td>\n",
       "      <td>NaN</td>\n",
       "      <td>NaN</td>\n",
       "      <td>NaN</td>\n",
       "      <td>NaN</td>\n",
       "      <td>NaN</td>\n",
       "      <td>NaN</td>\n",
       "      <td>...</td>\n",
       "      <td>NaN</td>\n",
       "      <td>NaN</td>\n",
       "      <td>NaN</td>\n",
       "      <td>NaN</td>\n",
       "      <td>NaN</td>\n",
       "      <td>NaN</td>\n",
       "      <td>NaN</td>\n",
       "      <td>NaN</td>\n",
       "      <td>NaN</td>\n",
       "      <td>NaN</td>\n",
       "    </tr>\n",
       "    <tr>\n",
       "      <th>pathrise_status_Placed</th>\n",
       "      <td>1.000000</td>\n",
       "      <td>NaN</td>\n",
       "      <td>NaN</td>\n",
       "      <td>-0.320191</td>\n",
       "      <td>-0.132876</td>\n",
       "      <td>NaN</td>\n",
       "      <td>1.000000</td>\n",
       "      <td>-0.505815</td>\n",
       "      <td>-0.209020</td>\n",
       "      <td>-0.405364</td>\n",
       "      <td>...</td>\n",
       "      <td>-0.034513</td>\n",
       "      <td>0.033400</td>\n",
       "      <td>-0.005654</td>\n",
       "      <td>0.039806</td>\n",
       "      <td>0.034655</td>\n",
       "      <td>0.049617</td>\n",
       "      <td>-0.020909</td>\n",
       "      <td>0.197222</td>\n",
       "      <td>-0.012853</td>\n",
       "      <td>-0.040361</td>\n",
       "    </tr>\n",
       "    <tr>\n",
       "      <th>pathrise_status_Withdrawn</th>\n",
       "      <td>-0.505815</td>\n",
       "      <td>NaN</td>\n",
       "      <td>NaN</td>\n",
       "      <td>-0.164668</td>\n",
       "      <td>-0.068335</td>\n",
       "      <td>NaN</td>\n",
       "      <td>-0.505815</td>\n",
       "      <td>1.000000</td>\n",
       "      <td>-0.107495</td>\n",
       "      <td>-0.208471</td>\n",
       "      <td>...</td>\n",
       "      <td>-0.003011</td>\n",
       "      <td>-0.021631</td>\n",
       "      <td>0.051931</td>\n",
       "      <td>-0.020135</td>\n",
       "      <td>-0.007685</td>\n",
       "      <td>-0.011491</td>\n",
       "      <td>-0.007207</td>\n",
       "      <td>0.190060</td>\n",
       "      <td>0.001174</td>\n",
       "      <td>0.014909</td>\n",
       "    </tr>\n",
       "    <tr>\n",
       "      <th>pathrise_status_Withdrawn (Failed)</th>\n",
       "      <td>-0.209020</td>\n",
       "      <td>NaN</td>\n",
       "      <td>NaN</td>\n",
       "      <td>-0.068046</td>\n",
       "      <td>-0.028238</td>\n",
       "      <td>NaN</td>\n",
       "      <td>-0.209020</td>\n",
       "      <td>-0.107495</td>\n",
       "      <td>1.000000</td>\n",
       "      <td>-0.086147</td>\n",
       "      <td>...</td>\n",
       "      <td>0.010027</td>\n",
       "      <td>0.012508</td>\n",
       "      <td>-0.017365</td>\n",
       "      <td>-0.008320</td>\n",
       "      <td>-0.022583</td>\n",
       "      <td>0.000853</td>\n",
       "      <td>0.029371</td>\n",
       "      <td>0.440319</td>\n",
       "      <td>-0.020711</td>\n",
       "      <td>-0.029653</td>\n",
       "    </tr>\n",
       "    <tr>\n",
       "      <th>pathrise_status_Withdrawn (Trial)</th>\n",
       "      <td>-0.405364</td>\n",
       "      <td>NaN</td>\n",
       "      <td>NaN</td>\n",
       "      <td>-0.131966</td>\n",
       "      <td>-0.054764</td>\n",
       "      <td>NaN</td>\n",
       "      <td>-0.405364</td>\n",
       "      <td>-0.208471</td>\n",
       "      <td>-0.086147</td>\n",
       "      <td>1.000000</td>\n",
       "      <td>...</td>\n",
       "      <td>0.061323</td>\n",
       "      <td>-0.013201</td>\n",
       "      <td>-0.015581</td>\n",
       "      <td>-0.016136</td>\n",
       "      <td>-0.040629</td>\n",
       "      <td>-0.032736</td>\n",
       "      <td>0.002132</td>\n",
       "      <td>-0.408904</td>\n",
       "      <td>0.016862</td>\n",
       "      <td>0.039215</td>\n",
       "    </tr>\n",
       "    <tr>\n",
       "      <th>primary_track_Data</th>\n",
       "      <td>-0.000937</td>\n",
       "      <td>NaN</td>\n",
       "      <td>NaN</td>\n",
       "      <td>0.019592</td>\n",
       "      <td>-0.029118</td>\n",
       "      <td>NaN</td>\n",
       "      <td>-0.000937</td>\n",
       "      <td>-0.016578</td>\n",
       "      <td>0.021571</td>\n",
       "      <td>0.002653</td>\n",
       "      <td>...</td>\n",
       "      <td>0.029882</td>\n",
       "      <td>0.024323</td>\n",
       "      <td>-0.026277</td>\n",
       "      <td>-0.012590</td>\n",
       "      <td>-0.027148</td>\n",
       "      <td>0.005313</td>\n",
       "      <td>-0.022127</td>\n",
       "      <td>0.021409</td>\n",
       "      <td>-0.008301</td>\n",
       "      <td>0.028280</td>\n",
       "    </tr>\n",
       "    <tr>\n",
       "      <th>primary_track_Design</th>\n",
       "      <td>-0.032473</td>\n",
       "      <td>NaN</td>\n",
       "      <td>NaN</td>\n",
       "      <td>0.009486</td>\n",
       "      <td>-0.020648</td>\n",
       "      <td>NaN</td>\n",
       "      <td>-0.032473</td>\n",
       "      <td>0.027776</td>\n",
       "      <td>0.002344</td>\n",
       "      <td>0.012748</td>\n",
       "      <td>...</td>\n",
       "      <td>0.051369</td>\n",
       "      <td>-0.026268</td>\n",
       "      <td>-0.007859</td>\n",
       "      <td>0.029072</td>\n",
       "      <td>0.036797</td>\n",
       "      <td>-0.055672</td>\n",
       "      <td>0.016143</td>\n",
       "      <td>0.007646</td>\n",
       "      <td>-0.011112</td>\n",
       "      <td>0.040649</td>\n",
       "    </tr>\n",
       "    <tr>\n",
       "      <th>primary_track_Marketing</th>\n",
       "      <td>0.000267</td>\n",
       "      <td>NaN</td>\n",
       "      <td>NaN</td>\n",
       "      <td>-0.010404</td>\n",
       "      <td>-0.004318</td>\n",
       "      <td>NaN</td>\n",
       "      <td>0.000267</td>\n",
       "      <td>0.023373</td>\n",
       "      <td>-0.006792</td>\n",
       "      <td>-0.013172</td>\n",
       "      <td>...</td>\n",
       "      <td>-0.008265</td>\n",
       "      <td>-0.005365</td>\n",
       "      <td>-0.002655</td>\n",
       "      <td>-0.001272</td>\n",
       "      <td>-0.016851</td>\n",
       "      <td>0.022027</td>\n",
       "      <td>-0.006161</td>\n",
       "      <td>-0.000025</td>\n",
       "      <td>0.066909</td>\n",
       "      <td>0.003555</td>\n",
       "    </tr>\n",
       "    <tr>\n",
       "      <th>primary_track_PSO</th>\n",
       "      <td>-0.113088</td>\n",
       "      <td>NaN</td>\n",
       "      <td>NaN</td>\n",
       "      <td>0.070779</td>\n",
       "      <td>-0.001317</td>\n",
       "      <td>NaN</td>\n",
       "      <td>-0.113088</td>\n",
       "      <td>0.034996</td>\n",
       "      <td>-0.022944</td>\n",
       "      <td>0.075627</td>\n",
       "      <td>...</td>\n",
       "      <td>-0.009133</td>\n",
       "      <td>-0.012614</td>\n",
       "      <td>0.066673</td>\n",
       "      <td>0.025734</td>\n",
       "      <td>-0.035000</td>\n",
       "      <td>-0.022194</td>\n",
       "      <td>-0.019132</td>\n",
       "      <td>-0.064622</td>\n",
       "      <td>-0.005864</td>\n",
       "      <td>-0.004879</td>\n",
       "    </tr>\n",
       "    <tr>\n",
       "      <th>primary_track_SWE</th>\n",
       "      <td>0.103009</td>\n",
       "      <td>NaN</td>\n",
       "      <td>NaN</td>\n",
       "      <td>-0.069384</td>\n",
       "      <td>0.033456</td>\n",
       "      <td>NaN</td>\n",
       "      <td>0.103009</td>\n",
       "      <td>-0.037280</td>\n",
       "      <td>0.002498</td>\n",
       "      <td>-0.060060</td>\n",
       "      <td>...</td>\n",
       "      <td>-0.044302</td>\n",
       "      <td>0.012163</td>\n",
       "      <td>-0.024485</td>\n",
       "      <td>-0.029054</td>\n",
       "      <td>0.015029</td>\n",
       "      <td>0.049721</td>\n",
       "      <td>0.017670</td>\n",
       "      <td>0.027408</td>\n",
       "      <td>0.012880</td>\n",
       "      <td>-0.040196</td>\n",
       "    </tr>\n",
       "    <tr>\n",
       "      <th>primary_track_Web</th>\n",
       "      <td>-0.022420</td>\n",
       "      <td>NaN</td>\n",
       "      <td>NaN</td>\n",
       "      <td>0.024266</td>\n",
       "      <td>-0.006109</td>\n",
       "      <td>NaN</td>\n",
       "      <td>-0.022420</td>\n",
       "      <td>0.033072</td>\n",
       "      <td>-0.009610</td>\n",
       "      <td>-0.018637</td>\n",
       "      <td>...</td>\n",
       "      <td>-0.011695</td>\n",
       "      <td>-0.007591</td>\n",
       "      <td>-0.003757</td>\n",
       "      <td>-0.001800</td>\n",
       "      <td>0.031676</td>\n",
       "      <td>-0.024063</td>\n",
       "      <td>-0.008718</td>\n",
       "      <td>-0.006649</td>\n",
       "      <td>-0.009565</td>\n",
       "      <td>-0.009891</td>\n",
       "    </tr>\n",
       "    <tr>\n",
       "      <th>employment_status _Contractor</th>\n",
       "      <td>-0.052604</td>\n",
       "      <td>NaN</td>\n",
       "      <td>NaN</td>\n",
       "      <td>0.015685</td>\n",
       "      <td>-0.005879</td>\n",
       "      <td>NaN</td>\n",
       "      <td>-0.052604</td>\n",
       "      <td>0.025771</td>\n",
       "      <td>0.002602</td>\n",
       "      <td>0.032931</td>\n",
       "      <td>...</td>\n",
       "      <td>0.005638</td>\n",
       "      <td>-0.008043</td>\n",
       "      <td>-0.022608</td>\n",
       "      <td>-0.010832</td>\n",
       "      <td>0.009956</td>\n",
       "      <td>-0.011861</td>\n",
       "      <td>0.013648</td>\n",
       "      <td>-0.030987</td>\n",
       "      <td>-0.008596</td>\n",
       "      <td>-0.004338</td>\n",
       "    </tr>\n",
       "    <tr>\n",
       "      <th>employment_status _Employed Full-Time</th>\n",
       "      <td>-0.014160</td>\n",
       "      <td>NaN</td>\n",
       "      <td>NaN</td>\n",
       "      <td>-0.004985</td>\n",
       "      <td>-0.018875</td>\n",
       "      <td>NaN</td>\n",
       "      <td>-0.014160</td>\n",
       "      <td>0.047976</td>\n",
       "      <td>0.000050</td>\n",
       "      <td>-0.024004</td>\n",
       "      <td>...</td>\n",
       "      <td>-0.013215</td>\n",
       "      <td>0.009588</td>\n",
       "      <td>0.013168</td>\n",
       "      <td>0.017072</td>\n",
       "      <td>-0.029030</td>\n",
       "      <td>0.014462</td>\n",
       "      <td>0.025385</td>\n",
       "      <td>0.048295</td>\n",
       "      <td>-0.018785</td>\n",
       "      <td>-0.034979</td>\n",
       "    </tr>\n",
       "    <tr>\n",
       "      <th>employment_status _Employed Part-Time</th>\n",
       "      <td>0.024979</td>\n",
       "      <td>NaN</td>\n",
       "      <td>NaN</td>\n",
       "      <td>-0.027902</td>\n",
       "      <td>-0.045455</td>\n",
       "      <td>NaN</td>\n",
       "      <td>0.024979</td>\n",
       "      <td>0.012300</td>\n",
       "      <td>0.004531</td>\n",
       "      <td>-0.012109</td>\n",
       "      <td>...</td>\n",
       "      <td>0.005082</td>\n",
       "      <td>0.006659</td>\n",
       "      <td>0.013711</td>\n",
       "      <td>-0.013393</td>\n",
       "      <td>0.021874</td>\n",
       "      <td>-0.026229</td>\n",
       "      <td>-0.018657</td>\n",
       "      <td>0.015424</td>\n",
       "      <td>0.016070</td>\n",
       "      <td>0.024437</td>\n",
       "    </tr>\n",
       "    <tr>\n",
       "      <th>employment_status _Missing</th>\n",
       "      <td>0.031064</td>\n",
       "      <td>NaN</td>\n",
       "      <td>NaN</td>\n",
       "      <td>-0.043566</td>\n",
       "      <td>0.024131</td>\n",
       "      <td>NaN</td>\n",
       "      <td>0.031064</td>\n",
       "      <td>-0.006884</td>\n",
       "      <td>0.019861</td>\n",
       "      <td>-0.020534</td>\n",
       "      <td>...</td>\n",
       "      <td>0.013022</td>\n",
       "      <td>0.001000</td>\n",
       "      <td>0.016752</td>\n",
       "      <td>0.032261</td>\n",
       "      <td>0.042851</td>\n",
       "      <td>-0.019972</td>\n",
       "      <td>-0.013647</td>\n",
       "      <td>0.010377</td>\n",
       "      <td>-0.000348</td>\n",
       "      <td>-0.027752</td>\n",
       "    </tr>\n",
       "  </tbody>\n",
       "</table>\n",
       "<p>20 rows × 80 columns</p>\n",
       "</div>"
      ],
      "text/plain": [
       "                                         placed  pathrise_status_Active  \\\n",
       "placed                                 1.000000                     NaN   \n",
       "pathrise_status_Active                      NaN                     NaN   \n",
       "pathrise_status_Break                       NaN                     NaN   \n",
       "pathrise_status_Closed Lost           -0.320191                     NaN   \n",
       "pathrise_status_Deferred              -0.132876                     NaN   \n",
       "pathrise_status_MIA                         NaN                     NaN   \n",
       "pathrise_status_Placed                 1.000000                     NaN   \n",
       "pathrise_status_Withdrawn             -0.505815                     NaN   \n",
       "pathrise_status_Withdrawn (Failed)    -0.209020                     NaN   \n",
       "pathrise_status_Withdrawn (Trial)     -0.405364                     NaN   \n",
       "primary_track_Data                    -0.000937                     NaN   \n",
       "primary_track_Design                  -0.032473                     NaN   \n",
       "primary_track_Marketing                0.000267                     NaN   \n",
       "primary_track_PSO                     -0.113088                     NaN   \n",
       "primary_track_SWE                      0.103009                     NaN   \n",
       "primary_track_Web                     -0.022420                     NaN   \n",
       "employment_status _Contractor         -0.052604                     NaN   \n",
       "employment_status _Employed Full-Time -0.014160                     NaN   \n",
       "employment_status _Employed Part-Time  0.024979                     NaN   \n",
       "employment_status _Missing             0.031064                     NaN   \n",
       "\n",
       "                                       pathrise_status_Break  \\\n",
       "placed                                                   NaN   \n",
       "pathrise_status_Active                                   NaN   \n",
       "pathrise_status_Break                                    NaN   \n",
       "pathrise_status_Closed Lost                              NaN   \n",
       "pathrise_status_Deferred                                 NaN   \n",
       "pathrise_status_MIA                                      NaN   \n",
       "pathrise_status_Placed                                   NaN   \n",
       "pathrise_status_Withdrawn                                NaN   \n",
       "pathrise_status_Withdrawn (Failed)                       NaN   \n",
       "pathrise_status_Withdrawn (Trial)                        NaN   \n",
       "primary_track_Data                                       NaN   \n",
       "primary_track_Design                                     NaN   \n",
       "primary_track_Marketing                                  NaN   \n",
       "primary_track_PSO                                        NaN   \n",
       "primary_track_SWE                                        NaN   \n",
       "primary_track_Web                                        NaN   \n",
       "employment_status _Contractor                            NaN   \n",
       "employment_status _Employed Full-Time                    NaN   \n",
       "employment_status _Employed Part-Time                    NaN   \n",
       "employment_status _Missing                               NaN   \n",
       "\n",
       "                                       pathrise_status_Closed Lost  \\\n",
       "placed                                                   -0.320191   \n",
       "pathrise_status_Active                                         NaN   \n",
       "pathrise_status_Break                                          NaN   \n",
       "pathrise_status_Closed Lost                               1.000000   \n",
       "pathrise_status_Deferred                                 -0.043258   \n",
       "pathrise_status_MIA                                            NaN   \n",
       "pathrise_status_Placed                                   -0.320191   \n",
       "pathrise_status_Withdrawn                                -0.164668   \n",
       "pathrise_status_Withdrawn (Failed)                       -0.068046   \n",
       "pathrise_status_Withdrawn (Trial)                        -0.131966   \n",
       "primary_track_Data                                        0.019592   \n",
       "primary_track_Design                                      0.009486   \n",
       "primary_track_Marketing                                  -0.010404   \n",
       "primary_track_PSO                                         0.070779   \n",
       "primary_track_SWE                                        -0.069384   \n",
       "primary_track_Web                                         0.024266   \n",
       "employment_status _Contractor                             0.015685   \n",
       "employment_status _Employed Full-Time                    -0.004985   \n",
       "employment_status _Employed Part-Time                    -0.027902   \n",
       "employment_status _Missing                               -0.043566   \n",
       "\n",
       "                                       pathrise_status_Deferred  \\\n",
       "placed                                                -0.132876   \n",
       "pathrise_status_Active                                      NaN   \n",
       "pathrise_status_Break                                       NaN   \n",
       "pathrise_status_Closed Lost                           -0.043258   \n",
       "pathrise_status_Deferred                               1.000000   \n",
       "pathrise_status_MIA                                         NaN   \n",
       "pathrise_status_Placed                                -0.132876   \n",
       "pathrise_status_Withdrawn                             -0.068335   \n",
       "pathrise_status_Withdrawn (Failed)                    -0.028238   \n",
       "pathrise_status_Withdrawn (Trial)                     -0.054764   \n",
       "primary_track_Data                                    -0.029118   \n",
       "primary_track_Design                                  -0.020648   \n",
       "primary_track_Marketing                               -0.004318   \n",
       "primary_track_PSO                                     -0.001317   \n",
       "primary_track_SWE                                      0.033456   \n",
       "primary_track_Web                                     -0.006109   \n",
       "employment_status _Contractor                         -0.005879   \n",
       "employment_status _Employed Full-Time                 -0.018875   \n",
       "employment_status _Employed Part-Time                 -0.045455   \n",
       "employment_status _Missing                             0.024131   \n",
       "\n",
       "                                       pathrise_status_MIA  \\\n",
       "placed                                                 NaN   \n",
       "pathrise_status_Active                                 NaN   \n",
       "pathrise_status_Break                                  NaN   \n",
       "pathrise_status_Closed Lost                            NaN   \n",
       "pathrise_status_Deferred                               NaN   \n",
       "pathrise_status_MIA                                    NaN   \n",
       "pathrise_status_Placed                                 NaN   \n",
       "pathrise_status_Withdrawn                              NaN   \n",
       "pathrise_status_Withdrawn (Failed)                     NaN   \n",
       "pathrise_status_Withdrawn (Trial)                      NaN   \n",
       "primary_track_Data                                     NaN   \n",
       "primary_track_Design                                   NaN   \n",
       "primary_track_Marketing                                NaN   \n",
       "primary_track_PSO                                      NaN   \n",
       "primary_track_SWE                                      NaN   \n",
       "primary_track_Web                                      NaN   \n",
       "employment_status _Contractor                          NaN   \n",
       "employment_status _Employed Full-Time                  NaN   \n",
       "employment_status _Employed Part-Time                  NaN   \n",
       "employment_status _Missing                             NaN   \n",
       "\n",
       "                                       pathrise_status_Placed  \\\n",
       "placed                                               1.000000   \n",
       "pathrise_status_Active                                    NaN   \n",
       "pathrise_status_Break                                     NaN   \n",
       "pathrise_status_Closed Lost                         -0.320191   \n",
       "pathrise_status_Deferred                            -0.132876   \n",
       "pathrise_status_MIA                                       NaN   \n",
       "pathrise_status_Placed                               1.000000   \n",
       "pathrise_status_Withdrawn                           -0.505815   \n",
       "pathrise_status_Withdrawn (Failed)                  -0.209020   \n",
       "pathrise_status_Withdrawn (Trial)                   -0.405364   \n",
       "primary_track_Data                                  -0.000937   \n",
       "primary_track_Design                                -0.032473   \n",
       "primary_track_Marketing                              0.000267   \n",
       "primary_track_PSO                                   -0.113088   \n",
       "primary_track_SWE                                    0.103009   \n",
       "primary_track_Web                                   -0.022420   \n",
       "employment_status _Contractor                       -0.052604   \n",
       "employment_status _Employed Full-Time               -0.014160   \n",
       "employment_status _Employed Part-Time                0.024979   \n",
       "employment_status _Missing                           0.031064   \n",
       "\n",
       "                                       pathrise_status_Withdrawn  \\\n",
       "placed                                                 -0.505815   \n",
       "pathrise_status_Active                                       NaN   \n",
       "pathrise_status_Break                                        NaN   \n",
       "pathrise_status_Closed Lost                            -0.164668   \n",
       "pathrise_status_Deferred                               -0.068335   \n",
       "pathrise_status_MIA                                          NaN   \n",
       "pathrise_status_Placed                                 -0.505815   \n",
       "pathrise_status_Withdrawn                               1.000000   \n",
       "pathrise_status_Withdrawn (Failed)                     -0.107495   \n",
       "pathrise_status_Withdrawn (Trial)                      -0.208471   \n",
       "primary_track_Data                                     -0.016578   \n",
       "primary_track_Design                                    0.027776   \n",
       "primary_track_Marketing                                 0.023373   \n",
       "primary_track_PSO                                       0.034996   \n",
       "primary_track_SWE                                      -0.037280   \n",
       "primary_track_Web                                       0.033072   \n",
       "employment_status _Contractor                           0.025771   \n",
       "employment_status _Employed Full-Time                   0.047976   \n",
       "employment_status _Employed Part-Time                   0.012300   \n",
       "employment_status _Missing                             -0.006884   \n",
       "\n",
       "                                       pathrise_status_Withdrawn (Failed)  \\\n",
       "placed                                                          -0.209020   \n",
       "pathrise_status_Active                                                NaN   \n",
       "pathrise_status_Break                                                 NaN   \n",
       "pathrise_status_Closed Lost                                     -0.068046   \n",
       "pathrise_status_Deferred                                        -0.028238   \n",
       "pathrise_status_MIA                                                   NaN   \n",
       "pathrise_status_Placed                                          -0.209020   \n",
       "pathrise_status_Withdrawn                                       -0.107495   \n",
       "pathrise_status_Withdrawn (Failed)                               1.000000   \n",
       "pathrise_status_Withdrawn (Trial)                               -0.086147   \n",
       "primary_track_Data                                               0.021571   \n",
       "primary_track_Design                                             0.002344   \n",
       "primary_track_Marketing                                         -0.006792   \n",
       "primary_track_PSO                                               -0.022944   \n",
       "primary_track_SWE                                                0.002498   \n",
       "primary_track_Web                                               -0.009610   \n",
       "employment_status _Contractor                                    0.002602   \n",
       "employment_status _Employed Full-Time                            0.000050   \n",
       "employment_status _Employed Part-Time                            0.004531   \n",
       "employment_status _Missing                                       0.019861   \n",
       "\n",
       "                                       pathrise_status_Withdrawn (Trial)  ...  \\\n",
       "placed                                                         -0.405364  ...   \n",
       "pathrise_status_Active                                               NaN  ...   \n",
       "pathrise_status_Break                                                NaN  ...   \n",
       "pathrise_status_Closed Lost                                    -0.131966  ...   \n",
       "pathrise_status_Deferred                                       -0.054764  ...   \n",
       "pathrise_status_MIA                                                  NaN  ...   \n",
       "pathrise_status_Placed                                         -0.405364  ...   \n",
       "pathrise_status_Withdrawn                                      -0.208471  ...   \n",
       "pathrise_status_Withdrawn (Failed)                             -0.086147  ...   \n",
       "pathrise_status_Withdrawn (Trial)                               1.000000  ...   \n",
       "primary_track_Data                                              0.002653  ...   \n",
       "primary_track_Design                                            0.012748  ...   \n",
       "primary_track_Marketing                                        -0.013172  ...   \n",
       "primary_track_PSO                                               0.075627  ...   \n",
       "primary_track_SWE                                              -0.060060  ...   \n",
       "primary_track_Web                                              -0.018637  ...   \n",
       "employment_status _Contractor                                   0.032931  ...   \n",
       "employment_status _Employed Full-Time                          -0.024004  ...   \n",
       "employment_status _Employed Part-Time                          -0.012109  ...   \n",
       "employment_status _Missing                                     -0.020534  ...   \n",
       "\n",
       "                                       race_Latino or Hispanic American  \\\n",
       "placed                                                        -0.034513   \n",
       "pathrise_status_Active                                              NaN   \n",
       "pathrise_status_Break                                               NaN   \n",
       "pathrise_status_Closed Lost                                   -0.001721   \n",
       "pathrise_status_Deferred                                      -0.034364   \n",
       "pathrise_status_MIA                                                 NaN   \n",
       "pathrise_status_Placed                                        -0.034513   \n",
       "pathrise_status_Withdrawn                                     -0.003011   \n",
       "pathrise_status_Withdrawn (Failed)                             0.010027   \n",
       "pathrise_status_Withdrawn (Trial)                              0.061323   \n",
       "primary_track_Data                                             0.029882   \n",
       "primary_track_Design                                           0.051369   \n",
       "primary_track_Marketing                                       -0.008265   \n",
       "primary_track_PSO                                             -0.009133   \n",
       "primary_track_SWE                                             -0.044302   \n",
       "primary_track_Web                                             -0.011695   \n",
       "employment_status _Contractor                                  0.005638   \n",
       "employment_status _Employed Full-Time                         -0.013215   \n",
       "employment_status _Employed Part-Time                          0.005082   \n",
       "employment_status _Missing                                     0.013022   \n",
       "\n",
       "                                       race_Middle Eastern or Arab American  \\\n",
       "placed                                                             0.033400   \n",
       "pathrise_status_Active                                                  NaN   \n",
       "pathrise_status_Break                                                   NaN   \n",
       "pathrise_status_Closed Lost                                       -0.009951   \n",
       "pathrise_status_Deferred                                          -0.022307   \n",
       "pathrise_status_MIA                                                     NaN   \n",
       "pathrise_status_Placed                                             0.033400   \n",
       "pathrise_status_Withdrawn                                         -0.021631   \n",
       "pathrise_status_Withdrawn (Failed)                                 0.012508   \n",
       "pathrise_status_Withdrawn (Trial)                                 -0.013201   \n",
       "primary_track_Data                                                 0.024323   \n",
       "primary_track_Design                                              -0.026268   \n",
       "primary_track_Marketing                                           -0.005365   \n",
       "primary_track_PSO                                                 -0.012614   \n",
       "primary_track_SWE                                                  0.012163   \n",
       "primary_track_Web                                                 -0.007591   \n",
       "employment_status _Contractor                                     -0.008043   \n",
       "employment_status _Employed Full-Time                              0.009588   \n",
       "employment_status _Employed Part-Time                              0.006659   \n",
       "employment_status _Missing                                         0.001000   \n",
       "\n",
       "                                       race_Missing  \\\n",
       "placed                                    -0.005654   \n",
       "pathrise_status_Active                          NaN   \n",
       "pathrise_status_Break                           NaN   \n",
       "pathrise_status_Closed Lost               -0.026601   \n",
       "pathrise_status_Deferred                  -0.011039   \n",
       "pathrise_status_MIA                             NaN   \n",
       "pathrise_status_Placed                    -0.005654   \n",
       "pathrise_status_Withdrawn                  0.051931   \n",
       "pathrise_status_Withdrawn (Failed)        -0.017365   \n",
       "pathrise_status_Withdrawn (Trial)         -0.015581   \n",
       "primary_track_Data                        -0.026277   \n",
       "primary_track_Design                      -0.007859   \n",
       "primary_track_Marketing                   -0.002655   \n",
       "primary_track_PSO                          0.066673   \n",
       "primary_track_SWE                         -0.024485   \n",
       "primary_track_Web                         -0.003757   \n",
       "employment_status _Contractor             -0.022608   \n",
       "employment_status _Employed Full-Time      0.013168   \n",
       "employment_status _Employed Part-Time      0.013711   \n",
       "employment_status _Missing                 0.016752   \n",
       "\n",
       "                                       race_Native American or Alaskan Native  \\\n",
       "placed                                                               0.039806   \n",
       "pathrise_status_Active                                                    NaN   \n",
       "pathrise_status_Break                                                     NaN   \n",
       "pathrise_status_Closed Lost                                         -0.012746   \n",
       "pathrise_status_Deferred                                            -0.005289   \n",
       "pathrise_status_MIA                                                       NaN   \n",
       "pathrise_status_Placed                                               0.039806   \n",
       "pathrise_status_Withdrawn                                           -0.020135   \n",
       "pathrise_status_Withdrawn (Failed)                                  -0.008320   \n",
       "pathrise_status_Withdrawn (Trial)                                   -0.016136   \n",
       "primary_track_Data                                                  -0.012590   \n",
       "primary_track_Design                                                 0.029072   \n",
       "primary_track_Marketing                                             -0.001272   \n",
       "primary_track_PSO                                                    0.025734   \n",
       "primary_track_SWE                                                   -0.029054   \n",
       "primary_track_Web                                                   -0.001800   \n",
       "employment_status _Contractor                                       -0.010832   \n",
       "employment_status _Employed Full-Time                                0.017072   \n",
       "employment_status _Employed Part-Time                               -0.013393   \n",
       "employment_status _Missing                                           0.032261   \n",
       "\n",
       "                                       race_Non-Hispanic White or Euro-American  \\\n",
       "placed                                                                 0.034655   \n",
       "pathrise_status_Active                                                      NaN   \n",
       "pathrise_status_Break                                                       NaN   \n",
       "pathrise_status_Closed Lost                                            0.016931   \n",
       "pathrise_status_Deferred                                              -0.002887   \n",
       "pathrise_status_MIA                                                         NaN   \n",
       "pathrise_status_Placed                                                 0.034655   \n",
       "pathrise_status_Withdrawn                                             -0.007685   \n",
       "pathrise_status_Withdrawn (Failed)                                    -0.022583   \n",
       "pathrise_status_Withdrawn (Trial)                                     -0.040629   \n",
       "primary_track_Data                                                    -0.027148   \n",
       "primary_track_Design                                                   0.036797   \n",
       "primary_track_Marketing                                               -0.016851   \n",
       "primary_track_PSO                                                     -0.035000   \n",
       "primary_track_SWE                                                      0.015029   \n",
       "primary_track_Web                                                      0.031676   \n",
       "employment_status _Contractor                                          0.009956   \n",
       "employment_status _Employed Full-Time                                 -0.029030   \n",
       "employment_status _Employed Part-Time                                  0.021874   \n",
       "employment_status _Missing                                             0.042851   \n",
       "\n",
       "                                       race_South Asian or Indian American  \\\n",
       "placed                                                            0.049617   \n",
       "pathrise_status_Active                                                 NaN   \n",
       "pathrise_status_Break                                                  NaN   \n",
       "pathrise_status_Closed Lost                                      -0.024270   \n",
       "pathrise_status_Deferred                                         -0.013429   \n",
       "pathrise_status_MIA                                                    NaN   \n",
       "pathrise_status_Placed                                            0.049617   \n",
       "pathrise_status_Withdrawn                                        -0.011491   \n",
       "pathrise_status_Withdrawn (Failed)                                0.000853   \n",
       "pathrise_status_Withdrawn (Trial)                                -0.032736   \n",
       "primary_track_Data                                                0.005313   \n",
       "primary_track_Design                                             -0.055672   \n",
       "primary_track_Marketing                                           0.022027   \n",
       "primary_track_PSO                                                -0.022194   \n",
       "primary_track_SWE                                                 0.049721   \n",
       "primary_track_Web                                                -0.024063   \n",
       "employment_status _Contractor                                    -0.011861   \n",
       "employment_status _Employed Full-Time                             0.014462   \n",
       "employment_status _Employed Part-Time                            -0.026229   \n",
       "employment_status _Missing                                       -0.019972   \n",
       "\n",
       "                                       race_Two or More Races  \\\n",
       "placed                                              -0.020909   \n",
       "pathrise_status_Active                                    NaN   \n",
       "pathrise_status_Break                                     NaN   \n",
       "pathrise_status_Closed Lost                          0.024821   \n",
       "pathrise_status_Deferred                            -0.004255   \n",
       "pathrise_status_MIA                                       NaN   \n",
       "pathrise_status_Placed                              -0.020909   \n",
       "pathrise_status_Withdrawn                           -0.007207   \n",
       "pathrise_status_Withdrawn (Failed)                   0.029371   \n",
       "pathrise_status_Withdrawn (Trial)                    0.002132   \n",
       "primary_track_Data                                  -0.022127   \n",
       "primary_track_Design                                 0.016143   \n",
       "primary_track_Marketing                             -0.006161   \n",
       "primary_track_PSO                                   -0.019132   \n",
       "primary_track_SWE                                    0.017670   \n",
       "primary_track_Web                                   -0.008718   \n",
       "employment_status _Contractor                        0.013648   \n",
       "employment_status _Employed Full-Time                0.025385   \n",
       "employment_status _Employed Part-Time               -0.018657   \n",
       "employment_status _Missing                          -0.013647   \n",
       "\n",
       "                                       program_duration_days  \\\n",
       "placed                                              0.197222   \n",
       "pathrise_status_Active                                   NaN   \n",
       "pathrise_status_Break                                    NaN   \n",
       "pathrise_status_Closed Lost                        -0.349214   \n",
       "pathrise_status_Deferred                           -0.144920   \n",
       "pathrise_status_MIA                                      NaN   \n",
       "pathrise_status_Placed                              0.197222   \n",
       "pathrise_status_Withdrawn                           0.190060   \n",
       "pathrise_status_Withdrawn (Failed)                  0.440319   \n",
       "pathrise_status_Withdrawn (Trial)                  -0.408904   \n",
       "primary_track_Data                                  0.021409   \n",
       "primary_track_Design                                0.007646   \n",
       "primary_track_Marketing                            -0.000025   \n",
       "primary_track_PSO                                  -0.064622   \n",
       "primary_track_SWE                                   0.027408   \n",
       "primary_track_Web                                  -0.006649   \n",
       "employment_status _Contractor                      -0.030987   \n",
       "employment_status _Employed Full-Time               0.048295   \n",
       "employment_status _Employed Part-Time               0.015424   \n",
       "employment_status _Missing                          0.010377   \n",
       "\n",
       "                                       number_of_interviews  \\\n",
       "placed                                            -0.012853   \n",
       "pathrise_status_Active                                  NaN   \n",
       "pathrise_status_Break                                   NaN   \n",
       "pathrise_status_Closed Lost                        0.010258   \n",
       "pathrise_status_Deferred                           0.009314   \n",
       "pathrise_status_MIA                                     NaN   \n",
       "pathrise_status_Placed                            -0.012853   \n",
       "pathrise_status_Withdrawn                          0.001174   \n",
       "pathrise_status_Withdrawn (Failed)                -0.020711   \n",
       "pathrise_status_Withdrawn (Trial)                  0.016862   \n",
       "primary_track_Data                                -0.008301   \n",
       "primary_track_Design                              -0.011112   \n",
       "primary_track_Marketing                            0.066909   \n",
       "primary_track_PSO                                 -0.005864   \n",
       "primary_track_SWE                                  0.012880   \n",
       "primary_track_Web                                 -0.009565   \n",
       "employment_status _Contractor                     -0.008596   \n",
       "employment_status _Employed Full-Time             -0.018785   \n",
       "employment_status _Employed Part-Time              0.016070   \n",
       "employment_status _Missing                        -0.000348   \n",
       "\n",
       "                                       number_of_applications  \n",
       "placed                                              -0.040361  \n",
       "pathrise_status_Active                                    NaN  \n",
       "pathrise_status_Break                                     NaN  \n",
       "pathrise_status_Closed Lost                          0.036656  \n",
       "pathrise_status_Deferred                            -0.032839  \n",
       "pathrise_status_MIA                                       NaN  \n",
       "pathrise_status_Placed                              -0.040361  \n",
       "pathrise_status_Withdrawn                            0.014909  \n",
       "pathrise_status_Withdrawn (Failed)                  -0.029653  \n",
       "pathrise_status_Withdrawn (Trial)                    0.039215  \n",
       "primary_track_Data                                   0.028280  \n",
       "primary_track_Design                                 0.040649  \n",
       "primary_track_Marketing                              0.003555  \n",
       "primary_track_PSO                                   -0.004879  \n",
       "primary_track_SWE                                   -0.040196  \n",
       "primary_track_Web                                   -0.009891  \n",
       "employment_status _Contractor                       -0.004338  \n",
       "employment_status _Employed Full-Time               -0.034979  \n",
       "employment_status _Employed Part-Time                0.024437  \n",
       "employment_status _Missing                          -0.027752  \n",
       "\n",
       "[20 rows x 80 columns]"
      ]
     },
     "execution_count": 1818,
     "metadata": {},
     "output_type": "execute_result"
    }
   ],
   "source": [
    "corr=model_data.corr()\n",
    "corr[:20]"
   ]
  },
  {
   "cell_type": "markdown",
   "metadata": {},
   "source": [
    "Removing pathrise_status to produce an unbiased estimate"
   ]
  },
  {
   "cell_type": "code",
   "execution_count": 1819,
   "metadata": {},
   "outputs": [],
   "source": [
    "#Data PReperation\n",
    "\n",
    "#Removing \n",
    "categorical.remove('pathrise_status')\n",
    "X=pd.get_dummies(data_model[categorical])\n",
    "X[numerical]=data_model[numerical]\n",
    "model_data=X.loc[data_model['program_duration_days'].isnull()!=True,]\n",
    "current_candidates=X.loc[data_model['program_duration_days'].isnull()==True,]\n",
    "\n",
    "ytrain_uc2=model_data.loc[:,'placed']\n",
    "Xtrain_uc2=model_data.drop(['placed','program_duration_days'],axis=1)\n",
    "yscoring_uc2=current_candidates.loc[:,'placed']\n",
    "Xscoring_uc2=current_candidates.drop(['placed','program_duration_days'],axis=1)\n",
    "X_train, X_test, y_train, y_test= train_test_split(Xtrain_uc2,ytrain_uc2,test_size=0.3,random_state =1)\n"
   ]
  },
  {
   "cell_type": "code",
   "execution_count": 1820,
   "metadata": {},
   "outputs": [],
   "source": [
    "#logistic Regression\n",
    "log_reg=LogisticRegression(solver='liblinear')\n",
    "log_reg.fit(X_train,y_train)\n",
    "logistic_train_scores=list(model_performance_scores(log_reg,X_train,y_train))\n",
    "logistic_test_scores=list(model_performance_scores(log_reg,X_test,y_test))\n",
    "y_logitint_predict_prob=log_reg.predict_proba(X_train)\n",
    "y_logitint_scores=y_logitint_predict_prob[:,1]\n",
    "fpr_logit, tpr_logit, thresholds_logit = roc_curve(y_train, y_logitint_scores)\n",
    "\n",
    "\n",
    "#Decesion Tree\n",
    "dt=DecisionTreeClassifier(max_depth=4)\n",
    "dt.fit(X_train,y_train)\n",
    "dt_train_scores=list(model_performance_scores(dt,X_train,y_train))\n",
    "dt_test_scores=list(model_performance_scores(dt,X_test,y_test))\n",
    "y_dt_predict_prob=dt.predict_proba(X_train)\n",
    "y_dt_scores=y_dt_predict_prob[:,1]\n",
    "fpr_dt, tpr_dt, thresholds_dt = roc_curve(y_train, y_dt_scores)\n",
    "\n",
    "\n",
    "#Random Forest\n",
    "rf = RandomForestClassifier(max_depth=3,n_estimators=500,random_state=4)\n",
    "rf.fit(X_train,y_train)\n",
    "rf_test_scores=list(model_performance_scores(rf,X_test,y_test))\n",
    "y_random_predict_prob=rf.predict_proba(X_train)\n",
    "y_rf_scores=y_random_predict_prob[:,1]\n",
    "fpr_rf, tpr_rf, thresholds_rf = roc_curve(y_train, y_rf_scores)\n",
    "\n",
    "#XGboost\n",
    "XGB_model = XGBClassifier(silent=False, \n",
    "                      scale_pos_weight=1,\n",
    "                      learning_rate=0.01,  \n",
    "                      colsample_bytree = 0.6,\n",
    "                      subsample = 0.8,\n",
    "                      objective='binary:logistic', \n",
    "                      n_estimators=10000, \n",
    "                      reg_alpha = 0.3,\n",
    "                      max_depth=3, \n",
    "                      gamma=10\n",
    "                    )\n",
    "XGB_model.fit(X_train,y_train)\n",
    "xgb_train_scores=list(model_performance_scores(XGB_model,X_train,y_train))\n",
    "xgb_test_scores=list(model_performance_scores(XGB_model,X_test,y_test))\n",
    "y_xgb_predict_prob=XGB_model.predict_proba(X_train)\n",
    "y_xgb_scores=y_xgb_predict_prob[:,1]\n",
    "fpr_xgb, tpr_xgb, thresholds_xgb = roc_curve(y_train, y_xgb_scores)"
   ]
  },
  {
   "cell_type": "code",
   "execution_count": 1821,
   "metadata": {},
   "outputs": [
    {
     "data": {
      "text/html": [
       "<div>\n",
       "<style scoped>\n",
       "    .dataframe tbody tr th:only-of-type {\n",
       "        vertical-align: middle;\n",
       "    }\n",
       "\n",
       "    .dataframe tbody tr th {\n",
       "        vertical-align: top;\n",
       "    }\n",
       "\n",
       "    .dataframe thead th {\n",
       "        text-align: right;\n",
       "    }\n",
       "</style>\n",
       "<table border=\"1\" class=\"dataframe\">\n",
       "  <thead>\n",
       "    <tr style=\"text-align: right;\">\n",
       "      <th></th>\n",
       "      <th>Accuracy</th>\n",
       "      <th>Precision</th>\n",
       "      <th>Recall</th>\n",
       "      <th>F1 Score</th>\n",
       "    </tr>\n",
       "  </thead>\n",
       "  <tbody>\n",
       "    <tr>\n",
       "      <th>logistic_test</th>\n",
       "      <td>0.588946</td>\n",
       "      <td>0.576577</td>\n",
       "      <td>0.664360</td>\n",
       "      <td>0.617363</td>\n",
       "    </tr>\n",
       "    <tr>\n",
       "      <th>DecisionTree_test</th>\n",
       "      <td>0.568221</td>\n",
       "      <td>0.551724</td>\n",
       "      <td>0.719723</td>\n",
       "      <td>0.624625</td>\n",
       "    </tr>\n",
       "    <tr>\n",
       "      <th>RandomForest_test</th>\n",
       "      <td>0.595855</td>\n",
       "      <td>0.593857</td>\n",
       "      <td>0.602076</td>\n",
       "      <td>0.597938</td>\n",
       "    </tr>\n",
       "    <tr>\n",
       "      <th>XGB_Test</th>\n",
       "      <td>0.583765</td>\n",
       "      <td>0.585714</td>\n",
       "      <td>0.567474</td>\n",
       "      <td>0.576450</td>\n",
       "    </tr>\n",
       "  </tbody>\n",
       "</table>\n",
       "</div>"
      ],
      "text/plain": [
       "                   Accuracy  Precision    Recall  F1 Score\n",
       "logistic_test      0.588946   0.576577  0.664360  0.617363\n",
       "DecisionTree_test  0.568221   0.551724  0.719723  0.624625\n",
       "RandomForest_test  0.595855   0.593857  0.602076  0.597938\n",
       "XGB_Test           0.583765   0.585714  0.567474  0.576450"
      ]
     },
     "execution_count": 1821,
     "metadata": {},
     "output_type": "execute_result"
    }
   ],
   "source": [
    "scores=pd.DataFrame([logistic_test_scores,\n",
    "                   dt_test_scores,rf_test_scores,\n",
    "                    xgb_test_scores])\n",
    "scores.columns=['Accuracy','Precision','Recall','F1 Score']\n",
    "scores.index=['logistic_test',\n",
    "              'DecisionTree_test',\n",
    "              'RandomForest_test',\n",
    "               'XGB_Test']\n",
    "scores"
   ]
  },
  {
   "cell_type": "markdown",
   "metadata": {},
   "source": [
    "From the Ecaluation matrix, it is noticiable that random forest has the higest accuracy but less recall compared to Decision tree and better precision compared to Decision tree. There is always a trade-off between Precision and Recall. To have a  balance between the both we consider F1_score the harmonic mean of precision and recall. \n",
    "\n",
    "when it comes to F1score, Decision tree has 0.623 f1_score ar 72% recall and 55.1% precision. But we can also look at ROC coverve before decising our dinal model\n"
   ]
  },
  {
   "cell_type": "code",
   "execution_count": 1822,
   "metadata": {},
   "outputs": [
    {
     "name": "stdout",
     "output_type": "stream",
     "text": [
      "Area Under ROC\n",
      "---------------\n",
      "LogisticRegression: 0.659\n",
      "DecisionTree: 0.621\n",
      "RandomForest: 0.69\n",
      "XGBoost: 0.646\n"
     ]
    },
    {
     "data": {
      "image/png": "[encoded data removed]",
      "text/plain": [
       "<Figure size 576x432 with 1 Axes>"
      ]
     },
     "metadata": {
      "needs_background": "light"
     },
     "output_type": "display_data"
    }
   ],
   "source": [
    "display_AUC_ROC()"
   ]
  },
  {
   "cell_type": "markdown",
   "metadata": {},
   "source": [
    "Consideing the problem statement, the main objective is to reduce the false positive rate because if a candidate is predicted PLACED while he's not will lead to uncertinities and false positives are considered costly in this situation. Random Forest did a better classification has higher True positives compared to other models and would be the final model."
   ]
  },
  {
   "cell_type": "code",
   "execution_count": 1823,
   "metadata": {},
   "outputs": [],
   "source": [
    "#Usecase1 implementation\n",
    "yscoring_uc2=rf.predict(Xscoring_uc2)"
   ]
  },
  {
   "cell_type": "code",
   "execution_count": 1824,
   "metadata": {},
   "outputs": [
    {
     "data": {
      "text/plain": [
       "array([1, 0, 1, 0, 0, 0, 1, 1, 1, 1, 1, 1, 0, 0, 0, 0, 1, 1, 1, 0, 1, 0,\n",
       "       0, 1, 0, 1, 0, 0, 1, 0, 0, 0, 1, 0, 0, 1, 1, 0, 0, 0, 0, 0, 0, 0,\n",
       "       1, 0, 0, 1, 0, 1, 0, 1, 1, 1, 1, 1, 0, 1, 1, 0, 1, 1, 0, 1, 1, 1,\n",
       "       0, 1, 1, 1, 0, 1, 0, 0, 1, 1, 0, 0, 0, 0, 0, 1, 1, 0, 1, 0, 0, 0,\n",
       "       0, 0, 1, 0, 1, 1, 1, 1, 1, 0, 0, 1, 1, 0, 1, 0, 0, 1, 1, 0, 0, 0,\n",
       "       1, 0, 0, 1, 1, 0, 0, 0, 0, 1, 0, 1, 0, 1, 0, 0, 1, 1, 1, 1, 1, 1,\n",
       "       0, 0, 0, 0, 0, 0, 0, 1, 0, 0, 0, 0, 1, 0, 0, 1, 0, 1, 1, 0, 0, 0,\n",
       "       1, 1, 1, 0, 0, 0, 1, 1, 1, 0, 1, 1, 0, 1, 0, 1, 1, 0, 1, 1, 1, 1,\n",
       "       1, 1, 1, 1, 1, 1, 1, 1, 0, 1, 1, 1, 1, 1, 0, 1, 0, 0, 1, 1, 0, 0,\n",
       "       1, 1, 0, 0, 0, 1, 0, 0, 1, 0, 1, 0, 1, 1, 0, 1, 1, 1, 1, 1, 1, 1,\n",
       "       1, 0, 0, 0, 1, 0, 0, 1, 1, 0, 1, 0, 1, 1, 0, 0, 1, 0, 0, 1, 1, 1,\n",
       "       1, 0, 1, 1, 1, 0, 0, 0, 0, 1, 1, 0, 0, 0, 1, 1, 0, 0, 1, 1, 0, 1,\n",
       "       1, 1, 0, 0, 0, 1, 1, 0, 1, 1, 1, 1, 0, 1, 0, 1, 1, 0, 1, 1, 0, 0,\n",
       "       0, 1, 1, 0, 0, 0, 0, 0, 1, 0, 0, 0, 1, 0, 0, 1, 0, 0, 0, 0, 0, 0,\n",
       "       1, 1, 0, 1, 0, 0, 0, 1, 0, 1, 0, 0, 0, 0, 0, 1, 1, 0, 0, 1, 1, 0,\n",
       "       0, 0, 1, 1, 1, 0, 0, 0, 0, 1, 0, 0, 0, 0, 0, 0, 1, 0, 0, 0, 1, 0,\n",
       "       0, 0, 1, 0, 1, 1, 0, 1, 1, 1, 1, 0, 1, 0, 1, 1, 1, 0, 0, 1, 0, 0,\n",
       "       1, 0, 0, 1, 1, 0, 0, 1, 0, 0, 1, 0, 1, 0, 0, 0, 0, 0, 0, 1, 0, 1,\n",
       "       0, 0, 0, 0, 0, 1, 0, 0, 1, 1, 0, 1, 0, 0, 0, 0, 0, 1, 0, 0, 0, 1,\n",
       "       1, 0, 0, 1, 0, 0, 0, 0, 1, 0, 0, 1, 0, 0, 1, 1, 0, 0, 1, 1, 0, 0,\n",
       "       1, 0, 1, 0, 1, 0, 1, 1, 0, 0, 0, 0, 0, 1, 0, 0, 0, 0, 0, 1, 0, 1,\n",
       "       0, 0, 1, 0, 0, 1, 0, 1, 1, 1, 0, 0, 0, 1, 0, 0, 0, 1, 1, 0, 0, 0,\n",
       "       1, 0, 0, 0, 1, 1, 1, 1, 1, 0, 0, 0, 0, 0, 0, 0, 1, 1, 0, 0, 0, 1,\n",
       "       0, 1, 1, 1, 0, 0, 1, 0, 0, 0, 0, 0, 0, 0, 1, 1, 0, 1, 0, 1, 0, 1,\n",
       "       0, 1, 0, 1, 0, 1, 1, 1, 1, 1, 0, 1, 0, 0, 0, 0, 0, 0, 0, 0, 1, 0,\n",
       "       0, 0, 0, 0, 0, 0, 0, 0, 0, 0, 0, 1, 1, 0, 0, 1, 1, 1, 0, 1, 0, 0,\n",
       "       0, 0, 0, 0, 1, 0, 0, 0, 0, 0, 1, 1, 0, 0, 0, 0, 0, 1, 0, 1, 0, 1,\n",
       "       0, 1, 0, 0, 1, 1, 0, 0, 1, 0, 0, 0, 0, 1, 1, 0, 0, 0, 0, 1, 0, 1],\n",
       "      dtype=int64)"
      ]
     },
     "execution_count": 1824,
     "metadata": {},
     "output_type": "execute_result"
    }
   ],
   "source": [
    "#Placement starus of new \n",
    "yscoring_uc2"
   ]
  },
  {
   "cell_type": "markdown",
   "metadata": {},
   "source": [
    "**Colclusion:** The usecases can be used in business and training perspective of candidates. In the future I would like to exted this Usecases implementation by dedicating more time for analyzing attributes in-depth and Improve the Model's performance leading to better business insights. "
   ]
  }
 ],
 "metadata": {
  "kernelspec": {
   "display_name": "Python 3",
   "language": "python",
   "name": "python3"
  },
  "language_info": {
   "codemirror_mode": {
    "name": "ipython",
    "version": 3
   },
   "file_extension": ".py",
   "mimetype": "text/x-python",
   "name": "python",
   "nbconvert_exporter": "python",
   "pygments_lexer": "ipython3",
   "version": "3.7.3"
  },
  "varInspector": {
   "cols": {
    "lenName": 16,
    "lenType": 16,
    "lenVar": 40
   },
   "kernels_config": {
    "python": {
     "delete_cmd_postfix": "",
     "delete_cmd_prefix": "del ",
     "library": "var_list.py",
     "varRefreshCmd": "print(var_dic_list())"
    },
    "r": {
     "delete_cmd_postfix": ") ",
     "delete_cmd_prefix": "rm(",
     "library": "var_list.r",
     "varRefreshCmd": "cat(var_dic_list()) "
    }
   },
   "types_to_exclude": [
    "module",
    "function",
    "builtin_function_or_method",
    "instance",
    "_Feature"
   ],
   "window_display": false
  }
 },
 "nbformat": 4,
 "nbformat_minor": 2
}
